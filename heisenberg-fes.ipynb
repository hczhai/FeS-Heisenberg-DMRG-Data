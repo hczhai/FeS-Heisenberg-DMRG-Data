{
  "nbformat": 4,
  "nbformat_minor": 0,
  "metadata": {
    "colab": {
      "name": "DMRG of S=1/2 and S=5/2 Heisenberg Models",
      "provenance": []
    },
    "kernelspec": {
      "name": "python3",
      "display_name": "Python 3"
    },
    "language_info": {
      "name": "python"
    }
  },
  "cells": [
    {
      "cell_type": "code",
      "execution_count": 1,
      "metadata": {
        "colab": {
          "base_uri": "https://localhost:8080/"
        },
        "id": "tFVUpkwhmXn1",
        "outputId": "6224d8ed-1248-41b1-e0c4-1edf69ca74e6"
      },
      "outputs": [
        {
          "output_type": "stream",
          "name": "stdout",
          "text": [
            "Looking in indexes: https://pypi.org/simple, https://us-python.pkg.dev/colab-wheels/public/simple/\n",
            "Collecting block2==0.5.1rc9\n",
            "  Downloading https://github.com/block-hczhai/block2-preview/releases/download/p0.5.1rc9/block2-0.5.1rc9-cp37-cp37m-manylinux_2_12_x86_64.manylinux2010_x86_64.whl (153.3 MB)\n",
            "\u001b[K     |████████████████████████████████| 153.3 MB 13 kB/s \n",
            "\u001b[?25hInstalling collected packages: block2\n",
            "Successfully installed block2-0.5.1rc9\n"
          ]
        }
      ],
      "source": [
        "!pip install --no-deps https://github.com/block-hczhai/block2-preview/releases/download/p0.5.1rc9/block2-0.5.1rc9-cp37-cp37m-manylinux_2_12_x86_64.manylinux2010_x86_64.whl"
      ]
    },
    {
      "cell_type": "code",
      "source": [
        "\n",
        "import numpy as np\n",
        "from pyblock2.driver.core import DMRGDriver, SymmetryTypes\n",
        "\n",
        "def perform_dmrg(local_spin, global_spins, topology, n_sites):\n",
        "\n",
        "    driver = DMRGDriver(scratch='./tmp', symm_type=SymmetryTypes.SU2,\n",
        "                        n_threads=4)\n",
        "    driver.initialize_system(n_sites=n_sites, spin=0, heis_twos=local_spin)\n",
        "\n",
        "    b = driver.expr_builder()\n",
        "    for (i, j, v) in topology:\n",
        "        assert i != j\n",
        "        b.add_term(\"(T+T)0\", [i, j], -np.sqrt(3) / 2 * v)\n",
        "    heis_mpo = driver.get_mpo(b.finalize(), iprint=0)\n",
        "\n",
        "    bond_dims = [200] * 5 + [400] * 5 + [800] * 5\n",
        "    noises = [1E-4] * 5 + [1E-5] * 5 + [0]\n",
        "    dav_thrds = [1E-7] * 5 + [1E-9] * 5 + [1E-10]\n",
        "\n",
        "    all_eners = []\n",
        "\n",
        "    print(\"\\n === S = %d/2 Heisenberg %d-Site Model === \\n\" %\n",
        "          (local_spin, n_sites))\n",
        "    for spin in global_spins:\n",
        "        target = driver.target\n",
        "        target.twos = target.twos_low = spin\n",
        "        ket = driver.get_random_mps(tag='GS', bond_dim=200, nroots=12)\n",
        "        eners = driver.dmrg(heis_mpo, ket, n_sweeps=20, iprint=0,\n",
        "                                  bond_dims=bond_dims, noises=noises,\n",
        "                                  thrds=dav_thrds, dav_max_iter=100, cutoff=0)\n",
        "        all_eners.append(eners)\n",
        "        print('2S = %d : E =' % spin, ('%14.8f' * len(eners)) % tuple(eners))\n",
        "\n",
        "    print(\"\\nRelative energies:\\n\")\n",
        "    ener_min = np.min([np.min(x) for x in all_eners])\n",
        "    for spin, eners in zip(global_spins, all_eners):\n",
        "        eners = np.array(eners) - ener_min\n",
        "        print('2S = %d : E =' % spin, ('%14.8f' * len(eners)) % tuple(eners))"
      ],
      "metadata": {
        "id": "apOzplUrmZmb"
      },
      "execution_count": 4,
      "outputs": []
    },
    {
      "cell_type": "code",
      "source": [
        "\n",
        "n_sites = 4\n",
        "topology = [\n",
        "    (1, 2, 1.17),\n",
        "    (3, 4, 1.17),\n",
        "    (1, 4, 1.00),\n",
        "    (2, 3, 1.00),\n",
        "    (1, 3, 1.00),\n",
        "    (2, 4, 1.00),\n",
        "]\n",
        "topology = [(i - 1, j - 1, k) for i, j, k in topology]\n",
        "\n",
        "perform_dmrg(local_spin=5, global_spins=[0, 2, 4],\n",
        "             topology=topology, n_sites=n_sites)\n",
        "\n",
        "perform_dmrg(local_spin=1, global_spins=[0, 2, 4],\n",
        "             topology=topology, n_sites=n_sites)"
      ],
      "metadata": {
        "colab": {
          "base_uri": "https://localhost:8080/"
        },
        "id": "tZPYPPcTmhSv",
        "outputId": "cb5cc3c5-487c-4bdc-e345-d3efdbd8f8c4"
      },
      "execution_count": 5,
      "outputs": [
        {
          "output_type": "stream",
          "name": "stdout",
          "text": [
            "\n",
            " === S = 5/2 Heisenberg 4-Site Model === \n",
            "\n",
            "2S = 0 : E =   -20.47500000  -20.13500000  -19.45500000  -18.43500000  -17.07500000  -15.37500000\n",
            "2S = 2 : E =   -19.30500000  -19.30500000  -19.13500000  -18.79500000  -18.79500000  -18.45500000  -17.94500000  -17.94500000  -17.43500000  -16.75500000  -16.75500000  -16.07500000\n",
            "2S = 4 : E =   -17.13500000  -16.96500000  -16.96500000  -16.79500000  -16.79500000  -16.45500000  -16.28500000  -16.28500000  -15.94500000  -15.94500000  -15.43500000  -15.26500000\n",
            "\n",
            "Relative energies:\n",
            "\n",
            "2S = 0 : E =     0.00000000    0.34000000    1.02000000    2.04000000    3.40000000    5.10000000\n",
            "2S = 2 : E =     1.17000000    1.17000000    1.34000000    1.68000000    1.68000000    2.02000000    2.53000000    2.53000000    3.04000000    3.72000000    3.72000000    4.40000000\n",
            "2S = 4 : E =     3.34000000    3.51000000    3.51000000    3.68000000    3.68000000    4.02000000    4.19000000    4.19000000    4.53000000    4.53000000    5.04000000    5.21000000\n",
            "\n",
            " === S = 1/2 Heisenberg 4-Site Model === \n",
            "\n",
            "2S = 0 : E =    -1.75500000   -1.41500000\n",
            "2S = 2 : E =    -0.58500000   -0.58500000   -0.41500000\n",
            "2S = 4 : E =     1.58500000\n",
            "\n",
            "Relative energies:\n",
            "\n",
            "2S = 0 : E =     0.00000000    0.34000000\n",
            "2S = 2 : E =     1.17000000    1.17000000    1.34000000\n",
            "2S = 4 : E =     3.34000000\n"
          ]
        }
      ]
    },
    {
      "cell_type": "code",
      "source": [
        "\n",
        "n_sites = 8\n",
        "topology = [\n",
        "    (1, 2, 1.00),\n",
        "    (2, 3, 1.00),\n",
        "    (3, 4, 1.00),\n",
        "    (1, 4, 1.00),\n",
        "    (1, 3, 1.00),\n",
        "    (2, 4, 1.00),\n",
        "\n",
        "    (5, 6, 1.00),\n",
        "    (5, 7, 1.00),\n",
        "    (6, 8, 1.00),\n",
        "    (7, 8, 1.00),\n",
        "    (5, 8, 1.00),\n",
        "    (6, 7, 1.00),\n",
        "\n",
        "    (2, 5, 1.00),\n",
        "    (2, 6, 1.00),\n",
        "    (2, 7, 1.00),\n",
        "\n",
        "    (3, 5, 1.00),\n",
        "    (3, 6, 1.00),\n",
        "    (3, 7, 1.00),\n",
        "\n",
        "    (4, 5, 1.00),\n",
        "    (4, 6, 1.00),\n",
        "    (4, 7, 1.00),\n",
        "]\n",
        "topology = [(i - 1, j - 1, k) for i, j, k in topology]\n",
        "\n",
        "perform_dmrg(local_spin=5, global_spins=[0, 2, 4, 6, 8],\n",
        "             topology=topology, n_sites=n_sites)\n",
        "\n",
        "perform_dmrg(local_spin=1, global_spins=[0, 2, 4, 6, 8],\n",
        "             topology=topology, n_sites=n_sites)"
      ],
      "metadata": {
        "colab": {
          "base_uri": "https://localhost:8080/"
        },
        "id": "IvhkjPNRm2zG",
        "outputId": "491da05f-d472-46ae-c38b-d84e3bfe2e6f"
      },
      "execution_count": 6,
      "outputs": [
        {
          "output_type": "stream",
          "name": "stdout",
          "text": [
            "\n",
            " === S = 5/2 Heisenberg 8-Site Model === \n",
            "\n",
            "2S = 0 : E =   -65.86207906  -60.80762248  -60.80762248  -60.80762248  -60.80762248  -55.73563435  -55.73563435  -55.73563435  -55.73563435  -55.73563435  -55.73563435  -55.73563435\n",
            "2S = 2 : E =   -64.96068249  -62.38952344  -62.38952344  -62.38952344  -62.38952344  -59.93521509  -59.93521509  -59.93521509  -59.93521509  -57.34360716  -57.34360716  -57.34360716\n",
            "2S = 4 : E =   -63.15543267  -60.61151216  -60.61151216  -60.61151216  -60.61151216  -58.18592103  -58.18592103  -58.18592103  -58.18592103  -57.92121364  -57.92121364  -57.92121364\n",
            "2S = 6 : E =   -60.44168361  -57.93654347  -57.93654347  -57.93654347  -57.93654347  -55.55144165  -55.55144165  -55.55144165  -55.55144165  -55.30022075  -55.30022075  -55.30022075\n",
            "2S = 8 : E =   -56.81307061  -54.35615009  -54.35615009  -54.35615009  -54.35615009  -52.02077188  -52.02077188  -52.02077188  -52.02077188  -51.78619083  -51.78619083  -51.78619083\n",
            "\n",
            "Relative energies:\n",
            "\n",
            "2S = 0 : E =     0.00000000    5.05445658    5.05445658    5.05445658    5.05445658   10.12644471   10.12644471   10.12644471   10.12644471   10.12644471   10.12644471   10.12644471\n",
            "2S = 2 : E =     0.90139657    3.47255562    3.47255562    3.47255562    3.47255562    5.92686396    5.92686396    5.92686396    5.92686396    8.51847190    8.51847190    8.51847190\n",
            "2S = 4 : E =     2.70664639    5.25056690    5.25056690    5.25056690    5.25056690    7.67615803    7.67615803    7.67615803    7.67615803    7.94086542    7.94086542    7.94086542\n",
            "2S = 6 : E =     5.42039545    7.92553559    7.92553559    7.92553559    7.92553559   10.31063741   10.31063741   10.31063741   10.31063741   10.56185831   10.56185831   10.56185831\n",
            "2S = 8 : E =     9.04900845   11.50592896   11.50592896   11.50592896   11.50592896   13.84130718   13.84130718   13.84130718   13.84130718   14.07588823   14.07588823   14.07588823\n",
            "\n",
            " === S = 1/2 Heisenberg 8-Site Model === \n",
            "\n",
            "2S = 0 : E =    -4.18649167   -3.11602540   -3.11602540   -3.11602540   -3.11602540   -2.25000000   -2.25000000   -2.25000000   -2.25000000   -1.38397460   -1.38397460   -1.38397460\n",
            "2S = 2 : E =    -3.26965870   -2.72299760   -2.72299760   -2.72299760   -2.72299760   -2.45710678   -2.45710678   -2.45710678   -2.45710678   -1.75000000   -1.75000000   -1.75000000\n",
            "2S = 4 : E =    -1.40753520   -1.00706846   -1.00706846   -1.00706846   -1.00706846   -0.75000000   -0.75000000   -0.75000000   -0.75000000   -0.03599663   -0.03599663   -0.03599663\n",
            "2S = 6 : E =     1.42712434    1.75000000    1.75000000    1.75000000    1.75000000    3.25000000    4.07287566\n",
            "2S = 8 : E =     5.25000000\n",
            "\n",
            "Relative energies:\n",
            "\n",
            "2S = 0 : E =     0.00000000    1.07046627    1.07046627    1.07046627    1.07046627    1.93649167    1.93649167    1.93649167    1.93649167    2.80251708    2.80251708    2.80251708\n",
            "2S = 2 : E =     0.91683298    1.46349407    1.46349407    1.46349407    1.46349407    1.72938489    1.72938489    1.72938489    1.72938489    2.43649167    2.43649167    2.43649167\n",
            "2S = 4 : E =     2.77895647    3.17942321    3.17942321    3.17942321    3.17942321    3.43649167    3.43649167    3.43649167    3.43649167    4.15049504    4.15049504    4.15049504\n",
            "2S = 6 : E =     5.61361602    5.93649167    5.93649167    5.93649167    5.93649167    7.43649167    8.25936733\n",
            "2S = 8 : E =     9.43649167\n"
          ]
        }
      ]
    },
    {
      "cell_type": "code",
      "source": [],
      "metadata": {
        "id": "KoHUmwcym5uR"
      },
      "execution_count": null,
      "outputs": []
    }
  ]
}